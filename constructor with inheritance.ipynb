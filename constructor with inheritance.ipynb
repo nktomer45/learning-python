{
 "cells": [
  {
   "cell_type": "markdown",
   "metadata": {},
   "source": [
    "# contructor in heritance\n",
    "# the construct in the parent class is available to the child class. "
   ]
  },
  {
   "cell_type": "code",
   "execution_count": 14,
   "metadata": {},
   "outputs": [
    {
     "name": "stdout",
     "output_type": "stream",
     "text": [
      "ram naam ek lodee\n",
      "rupess:\n"
     ]
    }
   ],
   "source": [
    "class father:\n",
    "    def __inti__(self):\n",
    "        self.d=2000\n",
    "        print(\"father calss calling\")\n",
    "    \n",
    "    def show(self):\n",
    "        print(\"ram naam ek lodee\")\n",
    "\n",
    "class son(father):\n",
    "    def disp(self):\n",
    "        print(\"rupess:\")\n",
    "s=son()\n",
    "s.show()\n",
    "s.disp()\n"
   ]
  },
  {
   "cell_type": "code",
   "execution_count": 30,
   "metadata": {},
   "outputs": [
    {
     "name": "stdout",
     "output_type": "stream",
     "text": [
      "father calss calling\n",
      "ram naam ek lodee 1000\n",
      "rupess: 2000\n"
     ]
    }
   ],
   "source": [
    "class father:\n",
    "    def __init__(self,d):\n",
    "        self.d=d\n",
    "        print(\"father calss calling\")\n",
    "    \n",
    "    def show(self):\n",
    "        print(\"ram naam ek lodee\",self.d)\n",
    "\n",
    "class son(father):\n",
    "    def disp(self):\n",
    "        print(\"rupess:\",self.d+1000)\n",
    "s=son(1000)\n",
    "s.show()\n",
    "s.disp()"
   ]
  },
  {
   "cell_type": "markdown",
   "metadata": {},
   "source": [
    "# construction overriding in heritance\n",
    "\n",
    "# if we write constructor in the both classes, parent ,child class then , parent class constructor is not available for child class."
   ]
  },
  {
   "cell_type": "code",
   "execution_count": 40,
   "metadata": {},
   "outputs": [
    {
     "name": "stdout",
     "output_type": "stream",
     "text": [
      "child calling\n",
      "rupess: 1078\n",
      "father calss calling\n",
      "ram naam ek lodee 90\n"
     ]
    }
   ],
   "source": [
    "class father:\n",
    "    def __init__(self):\n",
    "        self.d=90\n",
    "        print(\"father calss calling\")\n",
    "    \n",
    "    def disp(self):\n",
    "        print(\"ram naam ek lodee\",self.d)\n",
    "\n",
    "class son(father):\n",
    "    def __init__(self):\n",
    "        self.f=78\n",
    "        print(\"child calling\")\n",
    "    def disp(self):\n",
    "        print(\"rupess:\",self.f+1000)\n",
    "s=son()\n",
    "s.disp()\n",
    "e=father()\n",
    "e.disp()"
   ]
  },
  {
   "cell_type": "markdown",
   "metadata": {},
   "source": [
    "# construct  with super() method\n",
    "#  super() ---> the method is used to call parent class constuctor or method from the child class"
   ]
  },
  {
   "cell_type": "code",
   "execution_count": 49,
   "metadata": {},
   "outputs": [
    {
     "name": "stdout",
     "output_type": "stream",
     "text": [
      "father calss calling\n",
      "child calling\n",
      "rupess: 1078\n"
     ]
    }
   ],
   "source": [
    "class father:\n",
    "    def __init__(self):\n",
    "        self.d=90\n",
    "        print(\"father calss calling\")\n",
    "    \n",
    "    def disp(self):\n",
    "        print(\"ram naam ek lodee\",self.d)\n",
    "\n",
    "class son(father):\n",
    "    def __init__(self):\n",
    "        super(). __init__()\n",
    "        self.f=78\n",
    "        print(\"child calling\")\n",
    "    def disp(self):\n",
    "        print(\"rupess:\",self.f+1000)\n",
    "s=son()\n",
    "s.disp()\n"
   ]
  },
  {
   "cell_type": "markdown",
   "metadata": {},
   "source": [
    "# method overloading\n",
    "   # ___ when more than one method with same name is defined in the same class name.\n",
    "   # in python, if a method is written such that it can perform more than one task , it is called overloading."
   ]
  },
  {
   "cell_type": "code",
   "execution_count": 61,
   "metadata": {},
   "outputs": [
    {
     "data": {
      "text/plain": [
       "'no valid'"
      ]
     },
     "execution_count": 61,
     "metadata": {},
     "output_type": "execute_result"
    }
   ],
   "source": [
    "class my:\n",
    "    def sum(self,a=None,b=None,c=None):\n",
    "        if a!=None and b!=None and c!=None:\n",
    "            s=a+b+c\n",
    "            return s\n",
    "        elif a!=None and b!=None:\n",
    "            s=a*b\n",
    "            return s\n",
    "        elif a!=None:\n",
    "            return a\n",
    "        else:\n",
    "            s=\"no valid\"\n",
    "            return s\n",
    "obj=my()    \n",
    "obj.sum()       \n",
    "        "
   ]
  },
  {
   "cell_type": "markdown",
   "metadata": {},
   "source": [
    "#  abstract class \n",
    "# ---- A class derived from ABC class which belongs to abc module, is knowns  as abstract class in python.\n",
    "#  1-its also known as meta class ABC\n",
    "# 2- abstract class needs to be extended and its  method implemented.\n",
    "# 3. pvm cannot create of an abstract class"
   ]
  },
  {
   "cell_type": "code",
   "execution_count": 62,
   "metadata": {},
   "outputs": [],
   "source": [
    "from abc import ABC,abstractmethod\n"
   ]
  },
  {
   "cell_type": "code",
   "execution_count": 68,
   "metadata": {},
   "outputs": [
    {
     "name": "stdout",
     "output_type": "stream",
     "text": [
      "concrete method\n",
      "neeraj kumar\n",
      "vishu ji\n"
     ]
    }
   ],
   "source": [
    "class Father(ABC):\n",
    "    @abstractmethod\n",
    "    def disp(self):\n",
    "        pass\n",
    "    def show(self):\n",
    "        print(\"concrete method\")\n",
    "class child(Father):\n",
    "    def disp(self):\n",
    "        print(\"neeraj kumar\")\n",
    "        print(\"vishu ji\")\n",
    "a=child()              \n",
    "a.show() \n",
    "a.disp()"
   ]
  },
  {
   "cell_type": "code",
   "execution_count": 81,
   "metadata": {},
   "outputs": [
    {
     "name": "stdout",
     "output_type": "stream",
     "text": [
      "land\n",
      "AK47 GUN\n",
      "sea\n",
      "AK47 GUN\n",
      "sky\n",
      "AK47 GUN\n"
     ]
    }
   ],
   "source": [
    "class DefenceForce(ABC):\n",
    "    @abstractmethod\n",
    "    def area(self):\n",
    "        pass\n",
    "    def gun(self):\n",
    "        print(\"AK47 GUN\")\n",
    "class army(DefenceForce):\n",
    "    def area(self):\n",
    "        print(\"land\")\n",
    "class Navy(DefenceForce):\n",
    "    def area(self):\n",
    "        print(\"sea\")\n",
    "class airforce(DefenceForce):\n",
    "    def area(self):\n",
    "        print(\"sky\")\n",
    "        \n",
    "a=army()  \n",
    "a.area()   \n",
    "a.gun()\n",
    "\n",
    "b=Navy()\n",
    "b.area()\n",
    "b.gun()\n",
    "\n",
    "c=airforce()\n",
    "c.area()\n",
    "c.gun()"
   ]
  },
  {
   "cell_type": "code",
   "execution_count": null,
   "metadata": {},
   "outputs": [],
   "source": []
  }
 ],
 "metadata": {
  "kernelspec": {
   "display_name": "Python 3",
   "language": "python",
   "name": "python3"
  },
  "language_info": {
   "codemirror_mode": {
    "name": "ipython",
    "version": 3
   },
   "file_extension": ".py",
   "mimetype": "text/x-python",
   "name": "python",
   "nbconvert_exporter": "python",
   "pygments_lexer": "ipython3",
   "version": "3.7.4"
  }
 },
 "nbformat": 4,
 "nbformat_minor": 2
}
