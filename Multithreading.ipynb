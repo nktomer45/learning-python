{
 "cells": [
  {
   "cell_type": "markdown",
   "metadata": {},
   "source": [
    "# Mutlithreading\n"
   ]
  },
  {
   "cell_type": "code",
   "execution_count": 1,
   "metadata": {},
   "outputs": [],
   "source": [
    "import threading as thr"
   ]
  },
  {
   "cell_type": "code",
   "execution_count": 2,
   "metadata": {},
   "outputs": [
    {
     "name": "stdout",
     "output_type": "stream",
     "text": [
      "lalittomer\n",
      "MainThread\n"
     ]
    }
   ],
   "source": [
    "t=thr.current_thread().getName()\n",
    "print(\"lalittomer\")\n",
    "print(t)"
   ]
  },
  {
   "cell_type": "markdown",
   "metadata": {},
   "source": [
    "# creating a thread"
   ]
  },
  {
   "cell_type": "code",
   "execution_count": 3,
   "metadata": {},
   "outputs": [],
   "source": [
    "# thread class of threading module is used to create thread.to create our own thread we need to create an obj. of thread class\n",
    "# 1. creating a thread without using a class.\n",
    "# 2.creating a thread by creating a child class to thread class\n",
    "#. 3creatingg a thread without creating child class to thread class"
   ]
  },
  {
   "cell_type": "code",
   "execution_count": 4,
   "metadata": {},
   "outputs": [
    {
     "name": "stdout",
     "output_type": "stream",
     "text": [
      "Thread running 10 23\n"
     ]
    }
   ],
   "source": [
    "from threading import Thread as th\n",
    "def disp(a,b):\n",
    "    print(\"Thread running\",a,b)\n",
    "t=th(target=disp,args=(10,23))    \n",
    "t.start()"
   ]
  },
  {
   "cell_type": "code",
   "execution_count": 5,
   "metadata": {},
   "outputs": [
    {
     "name": "stdout",
     "output_type": "stream",
     "text": [
      "Thread running 10 23\n",
      "Thread running 10 23\n",
      "Thread running 10 23\n",
      "Thread running 10 23\n",
      "Thread running 10 23\n"
     ]
    }
   ],
   "source": [
    "from threading import Thread as th\n",
    "def disp(a,b):\n",
    "    print(\"Thread running\",a,b)\n",
    "for i in range(5):    \n",
    "    t=th(target=disp,args=(10,23))    \n",
    "    t.start()"
   ]
  },
  {
   "cell_type": "code",
   "execution_count": 6,
   "metadata": {},
   "outputs": [
    {
     "name": "stdout",
     "output_type": "stream",
     "text": [
      "child thread\n",
      "\n",
      "child thread\n",
      "\n",
      "main thread\n",
      "\n",
      "main thread\n",
      "\n",
      "main thread\n",
      "\n",
      "main thread\n",
      "\n",
      "main thread\n",
      "\n",
      "child thread\n",
      "\n",
      "child thread\n",
      "\n",
      "child thread\n",
      "\n"
     ]
    }
   ],
   "source": [
    "from threading import Thread \n",
    "def disp():\n",
    "    for  i in range(5):\n",
    "        print(\"child thread\\n\")\n",
    "t=Thread(target=disp)  \n",
    "\n",
    "t.start()    \n",
    "\n",
    "for i in range(5):\n",
    "    print(\"main thread\\n\")\n",
    "    # any python program creating by main threading . in beginning main threading create by pvm.\n",
    "    # in this program main thread and child thread running simulanteously.  "
   ]
  },
  {
   "cell_type": "code",
   "execution_count": 7,
   "metadata": {},
   "outputs": [
    {
     "name": "stdout",
     "output_type": "stream",
     "text": [
      "publication the video y\n",
      "publication tviedeo k \n",
      "publication tviedeo k \n",
      "publication tviedeo k \n",
      "publication tviedeo k \n",
      "publication tviedeo k publication the video y\n",
      "publication the video y\n",
      "publication the video y\n",
      "publication the video y\n",
      "\n"
     ]
    }
   ],
   "source": [
    "from threading import Thread \n",
    "def disp():\n",
    "    for  i in range(5):\n",
    "        print(\"publication the video y\")\n",
    "t=Thread(target=disp)  \n",
    "\n",
    "t.start()    \n",
    "\n",
    "for i in range(5):\n",
    "    print(\"publication tviedeo k \")\n",
    "   "
   ]
  },
  {
   "cell_type": "code",
   "execution_count": 8,
   "metadata": {},
   "outputs": [
    {
     "name": "stdout",
     "output_type": "stream",
     "text": [
      "child Thread object Thread-14\n",
      "main thread MainThread\n"
     ]
    }
   ],
   "source": [
    "from threading import Thread,current_thread\n",
    "def disp():\n",
    "    print(\"child Thread object\",current_thread().getName())\n",
    "t=Thread(target=disp)  \n",
    "t.start()\n",
    "print(\"main thread\",current_thread().getName())"
   ]
  },
  {
   "cell_type": "code",
   "execution_count": 9,
   "metadata": {},
   "outputs": [
    {
     "name": "stdout",
     "output_type": "stream",
     "text": [
      "default child Thread object main thread MainThread\n",
      "set_name neeru\n",
      "Thread-15\n",
      "set name lalit tomer\n"
     ]
    }
   ],
   "source": [
    "from threading import Thread,current_thread\n",
    "def disp():\n",
    "    print(\"default child Thread object\",current_thread().name)\n",
    "    current_thread().name= \"lalit tomer\"\n",
    "    print(\"set name\",current_thread().name)\n",
    "t=Thread(target=disp)  \n",
    "t.start()\n",
    "print(\"main thread\",current_thread().name)\n",
    "current_thread().name=\"neeru\"\n",
    "print(\"set_name\",current_thread().name)"
   ]
  },
  {
   "cell_type": "code",
   "execution_count": 161,
   "metadata": {},
   "outputs": [
    {
     "name": "stdout",
     "output_type": "stream",
     "text": [
      "Thread-177\n",
      "new doc thread\n"
     ]
    }
   ],
   "source": [
    "def disp():\n",
    "    pass\n",
    "y=Thread(target=disp)\n",
    "print(y.getName())\n",
    "y.start()\n",
    "y.setName(\"doc thread\")\n",
    "print(\"new\",y.getName())\n"
   ]
  },
  {
   "cell_type": "code",
   "execution_count": 11,
   "metadata": {},
   "outputs": [
    {
     "name": "stdout",
     "output_type": "stream",
     "text": [
      "Thread-17\n"
     ]
    }
   ],
   "source": [
    "from threading import Thread\n",
    "class mythread(Thread):\n",
    "    pass\n",
    "t=mythread()\n",
    "print(t.name)"
   ]
  },
  {
   "cell_type": "markdown",
   "metadata": {},
   "source": [
    "# thread method "
   ]
  },
  {
   "cell_type": "code",
   "execution_count": 12,
   "metadata": {},
   "outputs": [
    {
     "name": "stdout",
     "output_type": "stream",
     "text": [
      "child class\n",
      "child class\n",
      "child class\n",
      "child class\n",
      "child class\n",
      "main thread\n",
      "main thread\n",
      "main thread\n",
      "main thread\n",
      "main thread\n"
     ]
    }
   ],
   "source": [
    "\n",
    "class Mythread(Thread):\n",
    "    def run(self): \n",
    "        for i in range(5):    \n",
    "            print(\"child class\")\n",
    "p = Mythread()\n",
    "p.start()\n",
    "p.join()\n",
    "for i in range(5):\n",
    "    print(\"main thread\")"
   ]
  },
  {
   "cell_type": "markdown",
   "metadata": {},
   "source": [
    "# thread child Class with constructor"
   ]
  },
  {
   "cell_type": "code",
   "execution_count": 13,
   "metadata": {},
   "outputs": [
    {
     "name": "stdout",
     "output_type": "stream",
     "text": [
      "child class 2\n",
      "addition 4\n",
      "calcuot\n"
     ]
    }
   ],
   "source": [
    "class Mythrea(Thread):\n",
    "    def __init__(self,a):\n",
    "        Thread.__init__(self)\n",
    "        self.a=a\n",
    "    \n",
    "        print(\"child class\",self.a)\n",
    "    def run(self):\n",
    "       \n",
    "        print(\"addition\",self.a+2)\n",
    "e=Mythrea(2)\n",
    "e.start()\n",
    "e.join()\n",
    "print(\"calcuot\")"
   ]
  },
  {
   "cell_type": "markdown",
   "metadata": {},
   "source": [
    "# single tasking using a Thread"
   ]
  },
  {
   "cell_type": "code",
   "execution_count": 166,
   "metadata": {},
   "outputs": [
    {
     "name": "stdout",
     "output_type": "stream",
     "text": [
      "examation of maths\n",
      "examination of science\n",
      "examiation of so.science\n"
     ]
    }
   ],
   "source": [
    "from time import sleep \n",
    "class myexam(Thread):\n",
    "    def solve_question(self):\n",
    "        self.q1()\n",
    "        self.q2()\n",
    "        self.q3()\n",
    "            \n",
    "    def q1(self):\n",
    "        print(\"examation of maths\")\n",
    "        sleep(1)\n",
    "    def q2(self):\n",
    "        print(\"examination of science\")\n",
    "        sleep(1)\n",
    "    def q3(self):\n",
    "        print(\"examiation of so.science\")\n",
    "        \n",
    "my=myexam()\n",
    "t=Thread(target=my.solve_question)\n",
    "t.start()"
   ]
  },
  {
   "cell_type": "markdown",
   "metadata": {},
   "source": [
    "# Multitasking using Multiple Thread"
   ]
  },
  {
   "cell_type": "code",
   "execution_count": 168,
   "metadata": {},
   "outputs": [
    {
     "name": "stdout",
     "output_type": "stream",
     "text": [
      "take the order from table 1\n",
      "serve order to table 1\n",
      "serve order to tabletake the order from table 5\n",
      " 5\n",
      "take the order from tableserve order to table 2\n",
      " 2\n",
      "serve order to tabletake the order from table 3\n",
      " 3\n",
      "take the order from tableserve order to table 4\n",
      " 4\n",
      "serve order to tabletake the order from table 5\n",
      " 5\n"
     ]
    }
   ],
   "source": [
    "from threading import Thread \n",
    "class Hotel:\n",
    "    def __init__(self,t):\n",
    "        self.t=t\n",
    "    def food(self):\n",
    "        for i in range(1,6):\n",
    "            print(self.t,i)\n",
    "            sleep(6)\n",
    "h1=Hotel(\"take the order from table\")\n",
    "h2=Hotel(\"serve order to table\")\n",
    "t1=Thread(target=h1.food)\n",
    "t2=Thread(target=h2.food)\n",
    "t1.start()\n",
    "t2.start()"
   ]
  },
  {
   "cell_type": "markdown",
   "metadata": {},
   "source": [
    "# race condition --- it is a situation that occurs when thread are acting in a unexpected sequence,thus leading to unreliable output."
   ]
  },
  {
   "cell_type": "markdown",
   "metadata": {},
   "source": [
    "#  thread Race"
   ]
  },
  {
   "cell_type": "code",
   "execution_count": 16,
   "metadata": {},
   "outputs": [],
   "source": [
    "from threading import Thread, current_thread"
   ]
  },
  {
   "cell_type": "code",
   "execution_count": 17,
   "metadata": {},
   "outputs": [
    {
     "name": "stdout",
     "output_type": "stream",
     "text": [
      "avaialble sheeet\n",
      " 100\n",
      "80\"sheet allocate for rahul\n",
      "avaialble sheeet\n",
      " 20\n",
      "12\"sheet allocate for neeraj\n"
     ]
    }
   ],
   "source": [
    "class airfight:\n",
    "    def __init__(self,n):\n",
    "        self.avialable_sheet=n\n",
    "        \n",
    "    def reserve(self,need_sheet):\n",
    "        print(\"avaialble sheeet\\n\",self.avialable_sheet)\n",
    "        if(self.avialable_sheet >= need_sheet):\n",
    "            name=current_thread().name\n",
    "            print(f'{need_sheet}\"sheet allocate for {name}')\n",
    "            self.avialable_sheet-=need_sheet\n",
    "            s(.1) \n",
    "        else :\n",
    "        \n",
    "            print(\"sorry ,no sheet are avaiable\")\n",
    "t=airfight(100)\n",
    "h1=Thread(target=t.reserve,args=(80,),name=\"rahul\")\n",
    "h1.start()\n",
    "h2=Thread(target=t.reserve,args=(12,),name=\"neeraj\")\n",
    "h2.start()"
   ]
  },
  {
   "cell_type": "markdown",
   "metadata": {},
   "source": [
    " #new exapmle of threading use Lock method\n",
    "    \n",
    "   #### Rlock method \n",
    "                   locks are used to synchronize access to a shared resource.lock can be used to lock the object in which \n",
    "                   the object"
   ]
  },
  {
   "cell_type": "code",
   "execution_count": 18,
   "metadata": {},
   "outputs": [
    {
     "name": "stdout",
     "output_type": "stream",
     "text": [
      "<unlocked _thread.RLock object owner=0 count=0 at 0x000001CA04F1DAB0>\n",
      "mobile are avialable 10\n",
      "mobile are avialable 10\n",
      "<locked _thread.RLock object owner=11232 count=2 at 0x000001CA04F1DAB0>\n",
      "nokia\n",
      "mobile is present\n",
      "book  you mobile just start from 7000  nokia\n",
      "mobile are avialable 0\n",
      "<locked _thread.RLock object owner=11196 count=2 at 0x000001CA04F1DAB0>\n",
      "sorry it's not present in deal \n"
     ]
    }
   ],
   "source": [
    "from threading import*\n",
    "class mobile:\n",
    "    def __init__(self,a,b):\n",
    "        self.a=a\n",
    "        self.b=b\n",
    "        self.l=RLock()\n",
    "        print(self.l)\n",
    "        print(\"mobile are avialable\",a)\n",
    "    def metho (self,range_of_mobile):\n",
    "        print(\"mobile are avialable\",self.a)\n",
    "        self.l.acquire()\n",
    "        self.l.acquire()\n",
    "        print(self.l)\n",
    "        if (self.a>=range_of_mobile):\n",
    "            name=current_thread().name\n",
    "            print(name)\n",
    "            if(self.b==name):\n",
    "                print(\"mobile is present\")\n",
    "               \n",
    "                print('book  you mobile just start from 7000 ',name)\n",
    "                self.a -= range_of_mobile\n",
    "            else :\n",
    "                 print(\"no. moblile of  this brand\")\n",
    "             \n",
    "        else :\n",
    "            print(\"sorry it's not present in deal \")\n",
    "        self.l.release() \n",
    "        self.l.release()\n",
    "op=mobile(10,\"nokia\")\n",
    "h1=Thread(target=op.metho,args=(10,),name=\"nokia\")\n",
    "h1.start()\n",
    "\n",
    "h1.join()\n",
    "h2=Thread(target=op.metho,args=(1,),name=\"mi\")\n",
    "h2.start()\n",
    "h2.join()\n"
   ]
  },
  {
   "cell_type": "code",
   "execution_count": 19,
   "metadata": {},
   "outputs": [],
   "source": [
    "# standard lock"
   ]
  },
  {
   "cell_type": "code",
   "execution_count": 20,
   "metadata": {},
   "outputs": [
    {
     "name": "stdout",
     "output_type": "stream",
     "text": [
      "<unlocked _thread.lock object at 0x000001CA04EEFC60>\n",
      "mobile are avialable 10\n",
      "mobile are avialable 10\n",
      "<locked _thread.lock object at 0x000001CA04EEFC60>\n",
      "nokia\n",
      "mobile is present\n",
      "book  you mobile just start from 7000  nokia\n",
      "mobile are avialable 0\n",
      "<locked _thread.lock object at 0x000001CA04EEFC60>\n",
      "sorry it's not present in deal \n"
     ]
    }
   ],
   "source": [
    "from threading import*\n",
    "class mobile:\n",
    "    def __init__(self,a,b):\n",
    "        self.a=a\n",
    "        self.b=b\n",
    "        self.l=Lock()\n",
    "        print(self.l)\n",
    "        print(\"mobile are avialable\",a)\n",
    "    def metho (self,range_of_mobile):\n",
    "        print(\"mobile are avialable\",self.a)\n",
    "        self.l.acquire()\n",
    "        #self.l.acquire()\n",
    "        print(self.l)\n",
    "        if (self.a>=range_of_mobile):\n",
    "            name=current_thread().name\n",
    "            print(name)\n",
    "            if(self.b==name):\n",
    "                print(\"mobile is present\")\n",
    "               \n",
    "                print('book  you mobile just start from 7000 ',name)\n",
    "                self.a -= range_of_mobile\n",
    "            else :\n",
    "                 print(\"no. moblile of  this brand\")\n",
    "             \n",
    "        else :\n",
    "            print(\"sorry it's not present in deal \")\n",
    "        self.l.release() \n",
    "       # self.l.release()\n",
    "op=mobile(10,\"nokia\")\n",
    "h1=Thread(target=op.metho,args=(10,),name=\"nokia\")\n",
    "h1.start()\n",
    "\n",
    "h1.join()\n",
    "h2=Thread(target=op.metho,args=(1,),name=\"mi\")\n",
    "h2.start()\n",
    "h2.join()\n"
   ]
  },
  {
   "cell_type": "code",
   "execution_count": 21,
   "metadata": {},
   "outputs": [],
   "source": [
    "#samaphore --- this is one of oldest synchronization primitive in the history of computer science , invented by the early Dutch."
   ]
  },
  {
   "cell_type": "code",
   "execution_count": 22,
   "metadata": {},
   "outputs": [],
   "source": [
    "# A semaphore manages in internal counter which is decremented by each acquire() call and incremented by each realse ()call.\n",
    "# the counter can never go below zero .when acquire () finds that it is zero ,it blocks, waiting ,until some other thread calls release()."
   ]
  },
  {
   "cell_type": "code",
   "execution_count": 45,
   "metadata": {},
   "outputs": [
    {
     "name": "stdout",
     "output_type": "stream",
     "text": [
      "counter  2\n",
      "mobile are avialable 3\n",
      "counter 0\n",
      "nokia\n",
      "mobile is present\n",
      "book  you mobile just start from 7000  nokia\n",
      "after performation, the value of counter now:  None\n",
      "counter 1\n",
      "mi\n",
      "mobile is present\n",
      "book  you mobile just start from 7000  mi\n",
      "after performation, the value of counter now:  None\n",
      "counter 2\n",
      "intex\n",
      "mobile is present\n",
      "book  you mobile just start from 7000  intex\n",
      "after performation, the value of counter now:  None\n",
      "counter 3\n",
      "sorry it's not present in deal \n",
      "after performation, the value of counter now:  None\n"
     ]
    }
   ],
   "source": [
    "from threading import*\n",
    "class mobile:\n",
    "    def __init__(self,a,b,c,d):\n",
    "        self.a=a\n",
    "        self.b=b\n",
    "        self.c=c\n",
    "        self.d=d\n",
    "        self.l=Semaphore(2)\n",
    "        print(\"counter \",self.l._value)\n",
    "        print(\"mobile are avialable\",a)\n",
    "    def metho (self,range_of_mobile):\n",
    "       # print(\"mobile are avialable\",self.a)\n",
    "        self.l.acquire()\n",
    "        self.l.acquire()\n",
    "        print('counter',self.l._value)\n",
    "        if (self.a>=range_of_mobile):\n",
    "            name=current_thread().name\n",
    "            print(name)\n",
    "            if(self.b==name or self.c==name or self.d==name):\n",
    "                print(\"mobile is present\")\n",
    "               \n",
    "                print('book  you mobile just start from 7000 ',name)\n",
    "                self.a -= range_of_mobile\n",
    "            else :\n",
    "                 print(\"no. moblile of  this brand\")\n",
    "             \n",
    "        else :\n",
    "            print(\"sorry it's not present in deal \")\n",
    "        self.l.release() \n",
    "        self.l.release()\n",
    "        print(\"after performation, the value of counter now: \",self.l.release())\n",
    "op=mobile(3,\"nokia\",\"mi\",\"intex\")\n",
    "h1=Thread(target=op.metho,args=(1,),name=\"nokia\")\n",
    "h1.start()\n",
    "\n",
    "h1.join()\n",
    "h2=Thread(target=op.metho,args=(1,),name=\"mi\")\n",
    "h2.start()\n",
    "h2.join()\n",
    "h3=Thread(target=op.metho,args=(1,),name=\"intex\")\n",
    "h3.start()\n",
    "h3.join()\n",
    "h4=Thread(target=op.metho,args=(1,),name=\"intex\")\n",
    "h4.start()"
   ]
  },
  {
   "cell_type": "markdown",
   "metadata": {},
   "source": [
    "#  THREAD COMMUNICATION \n",
    "   # two or more threads communicate with each other."
   ]
  },
  {
   "cell_type": "markdown",
   "metadata": {},
   "source": [
    "1.Event\n",
    "2.condition \n",
    "3.Queue"
   ]
  },
  {
   "cell_type": "markdown",
   "metadata": {},
   "source": [
    "# Event"
   ]
  },
  {
   "cell_type": "markdown",
   "metadata": {},
   "source": [
    "this is one of simplest mechanisms for commun. b/w thread.\n",
    "one thread signals an event and other threads wait for it.\n",
    "An event object manages an  internal flag that can be set to true with set() method,\n",
    "and reset to false with the clear()method. the wait () method blocks until the flags is true."
   ]
  },
  {
   "cell_type": "code",
   "execution_count": 37,
   "metadata": {},
   "outputs": [
    {
     "name": "stdout",
     "output_type": "stream",
     "text": [
      "green light on\n",
      "\n",
      "you can go ....\n",
      "you can go ....\n",
      "you can go ....\n",
      "you can go ....\n",
      "you can go ....\n",
      "you can go ....\n",
      "you can go ....\n",
      "you can go ....\n",
      "you can go ....\n",
      "you can go ....\n",
      "red light  off\n",
      "program done\n"
     ]
    }
   ],
   "source": [
    "from threading import Thread ,Event\n",
    "from time import sleep\n",
    "def light_switch():\n",
    "    sleep(3)\n",
    "    e.set()\n",
    "    print(\"green light on\\n\")\n",
    "    sleep(5)\n",
    "    print(\"red light  off\")\n",
    "    e.clear()\n",
    "    \n",
    "def traffic():\n",
    "    e.wait()\n",
    "    while e.is_set():\n",
    "        print(\"you can go ....\")\n",
    "        sleep(.5)\n",
    "    print(\"program done\")    \n",
    "e=Event()\n",
    "t1=Thread(target=light_switch)\n",
    "t2=Thread(target=traffic)\n",
    "t1.start()\n",
    "t2.start()"
   ]
  },
  {
   "cell_type": "markdown",
   "metadata": {},
   "source": [
    "🙏traffic  light four turn  💢  "
   ]
  },
  {
   "cell_type": "code",
   "execution_count": 75,
   "metadata": {},
   "outputs": [
    {
     "name": "stdout",
     "output_type": "stream",
     "text": [
      "green light on\n",
      " \n",
      " 🚗 line  1    🏁you can go   🏁....\n",
      "\n",
      " slowly 🙏 \n",
      "you can go   🏁....\n",
      " slowly 🙏 \n",
      "you can go   🏁....\n",
      " slowly 🙏 \n",
      "you can go   🏁....\n",
      " slowly 🙏 \n",
      "you can go   🏁....\n",
      " slowly 🙏 \n",
      "you can go   🏁....\n",
      " slowly 🙏 \n",
      "you can go   🏁....\n",
      " slowly 🙏 \n",
      "you can go   🏁....\n",
      " slowly 🙏 \n",
      "you can go   🏁....\n",
      " slowly 🙏 \n",
      "you can go   🏁....\n",
      " slowly 🙏 \n",
      "red light  off 🏮  ✋ 1\n",
      "program done\n"
     ]
    }
   ],
   "source": [
    "\n",
    "def light_switch(a):\n",
    "    #self.a=a\n",
    "    sleep(3)\n",
    "   # e.set()\n",
    "    print(\"green light on\\n \")\n",
    "    e.set()\n",
    "    print(\" 🚗 line \",a ,\"   🏁\")\n",
    "    sleep(5)\n",
    "    print(\"red light  off 🏮  ✋\",a)\n",
    "    e.clear()\n",
    "    \n",
    "def traffic():\n",
    "    e.wait()\n",
    "    while e.is_set():\n",
    "        print(\"you can go   🏁....\")\n",
    "        print(\" slowly 🙏 \")      \n",
    "        sleep(.5)\n",
    "    print(\"program done\")    \n",
    "e=Event()\n",
    "#ty=traffic_light()\n",
    "t1=Thread(target=light_switch,args=(1,))\n",
    "t2=Thread(target=traffic)\n",
    "t1.start()\n",
    "\n",
    "t2.start()"
   ]
  },
  {
   "cell_type": "markdown",
   "metadata": {},
   "source": [
    "# condition "
   ]
  },
  {
   "cell_type": "code",
   "execution_count": 29,
   "metadata": {},
   "outputs": [
    {
     "name": "stdout",
     "output_type": "stream",
     "text": [
      "produce the item\n",
      "produce the item\n",
      "produce the item\n",
      "produce the item\n",
      "produce the item\n",
      "[1, 2, 3, 4, 5]\n"
     ]
    }
   ],
   "source": [
    "from threading import*\n",
    "from time import sleep\n",
    "ln=[]\n",
    "def produce():\n",
    "    cv.acquire()\n",
    "    for i in range(1,6):\n",
    "        ln.append(i)\n",
    "        sleep(1)\n",
    "        print(\"produce the item\")\n",
    "    cv.notify()\n",
    "    cv.release()\n",
    "def consume():\n",
    "    cv.acquire()\n",
    "    print(ln)\n",
    "    cv.release()\n",
    "cv = Condition()\n",
    "h2 = Thread(target=produce)\n",
    "h3 = Thread(target=consume)\n",
    "h2.start()\n",
    "h3.start()"
   ]
  },
  {
   "cell_type": "markdown",
   "metadata": {},
   "source": [
    "#  Queue"
   ]
  },
  {
   "cell_type": "code",
   "execution_count": 37,
   "metadata": {},
   "outputs": [],
   "source": [
    "# the queue class of queue module is useful to create a queue that holds the data produced by producer.\n",
    "# the data can be taken from the queue and utilization by the consumer.\n",
    "#we does not  need to use locks  since queue are thread lock"
   ]
  },
  {
   "cell_type": "code",
   "execution_count": 60,
   "metadata": {},
   "outputs": [
    {
     "name": "stdout",
     "output_type": "stream",
     "text": [
      "item produce 1\n",
      "item recived 1\n",
      "item produce 2\n",
      "item produce 3\n",
      "item recived 2\n",
      "item produce 4\n",
      "item produce 5\n",
      "item recived 3\n",
      "item recived 4\n",
      "item recived 5\n"
     ]
    }
   ],
   "source": [
    "from queue import Queue\n",
    "class producer:\n",
    "    def __init__(self):\n",
    "        self.q=Queue()\n",
    "    def produce(self):\n",
    "        for i in range(1,6):\n",
    "            print(\"item produce\",i)\n",
    "            self.q.put(i)\n",
    "            sleep(1)\n",
    "class consumer:\n",
    "    def __init__(self,p):\n",
    "        self.p=p\n",
    "    def consumer(self,):\n",
    "        for i in range(1,6):\n",
    "            print('item recived',self.p.q.get(i))\n",
    "            sleep(3)\n",
    "p=producer()\n",
    "c=consumer(p)\n",
    "h1=Thread(target=p.produce)\n",
    "h2=Thread(target=c.consumer)\n",
    "h1.start()\n",
    "h2.start()"
   ]
  },
  {
   "cell_type": "code",
   "execution_count": 93,
   "metadata": {},
   "outputs": [
    {
     "name": "stdout",
     "output_type": "stream",
     "text": [
      "ticket  taken by user  1\n",
      " ticket check  1\n",
      "take the sheet in cinema holl \n",
      "ticket  taken by user  2\n",
      " ticket check  2\n",
      "take the sheet in cinema holl \n",
      "ticket  taken by user  3\n",
      " ticket check  3\n",
      "take the sheet in cinema holl \n",
      "ticket  taken by user  4\n",
      " ticket check  4\n",
      "take the sheet in cinema holl \n",
      "ticket  taken by user  5\n",
      " ticket check  5\n",
      "take the sheet in cinema holl \n",
      "ticket  taken by user  6\n",
      " ticket check  6\n",
      "take the sheet in cinema holl \n",
      "ticket  taken by user  7\n",
      " ticket check  7\n",
      "take the sheet in cinema holl \n",
      "ticket  taken by user  8\n",
      " ticket check  8\n",
      "take the sheet in cinema holl \n",
      "ticket  taken by user  9\n",
      " ticket check  9\n",
      "take the sheet in cinema holl \n",
      "ticket  taken by user  10\n",
      " ticket check  10\n",
      "take the sheet in cinema holl \n",
      "ticket  taken by user  11\n",
      " ticket check  11\n",
      "take the sheet in cinema holl \n",
      "ticket  taken by user  12\n",
      " ticket check  12\n",
      "take the sheet in cinema holl \n",
      "ticket  taken by user  13\n",
      " ticket check  13\n",
      "take the sheet in cinema holl \n",
      "ticket  taken by user  14\n",
      " ticket check  14\n",
      "take the sheet in cinema holl \n",
      "ticket  taken by user  15\n",
      " ticket check  15\n",
      "take the sheet in cinema holl \n",
      "ticket  taken by user  16\n",
      " ticket check  16\n",
      "take the sheet in cinema holl \n",
      "ticket  taken by user  17\n",
      " ticket check  17\n",
      "take the sheet in cinema holl \n",
      "ticket  taken by user  18\n",
      " ticket check  18\n",
      "take the sheet in cinema holl \n",
      "ticket  taken by user  19\n",
      " ticket check  19\n",
      "take the sheet in cinema holl \n",
      "ticket  taken by user  20\n",
      " ticket check  20\n",
      "take the sheet in cinema holl \n",
      "ticket  taken by user  21\n",
      " ticket check  21\n",
      "take the sheet in cinema holl \n",
      "ticket  taken by user  22\n",
      " ticket check  22\n",
      "take the sheet in cinema holl \n",
      "ticket  taken by user  23\n",
      " ticket check  23\n",
      "take the sheet in cinema holl \n",
      "ticket  taken by user  24\n",
      " ticket check  24\n",
      "take the sheet in cinema holl \n",
      "ticket  taken by user  25\n",
      " ticket check  25\n",
      "take the sheet in cinema holl \n",
      "ticket  taken by user  26\n",
      " ticket check  26\n",
      "take the sheet in cinema holl \n",
      "ticket  taken by user  27\n",
      " ticket check  27\n",
      "take the sheet in cinema holl \n",
      "ticket  taken by user  28\n",
      " ticket check  28\n",
      "take the sheet in cinema holl \n",
      "ticket  taken by user  29\n",
      " ticket check  29\n",
      "take the sheet in cinema holl \n",
      "ticket  taken by user  30\n",
      " ticket check  30\n",
      "take the sheet in cinema holl \n",
      "ticket  taken by user  31\n",
      " ticket check  31\n",
      "take the sheet in cinema holl \n",
      "ticket  taken by user  32\n",
      " ticket check  32\n",
      "take the sheet in cinema holl \n",
      "ticket  taken by user  33\n",
      " ticket check  33\n",
      "take the sheet in cinema holl \n",
      "ticket  taken by user  34\n",
      " ticket check  34\n",
      "take the sheet in cinema holl \n",
      "ticket  taken by user  35\n",
      " ticket check  35\n",
      "take the sheet in cinema holl \n",
      "ticket  taken by user  36\n",
      " ticket check  36\n",
      "take the sheet in cinema holl \n",
      "ticket  taken by user  37\n",
      " ticket check  37\n",
      "take the sheet in cinema holl \n",
      "ticket  taken by user  38\n",
      " ticket check  38\n",
      "take the sheet in cinema holl \n",
      "ticket  taken by user  39\n",
      " ticket check  39\n",
      "take the sheet in cinema holl \n",
      "ticket  taken by user  40\n",
      " ticket check  40\n",
      "take the sheet in cinema holl \n",
      "ticket  taken by user  41\n",
      " ticket check  41\n",
      "take the sheet in cinema holl \n",
      "ticket  taken by user  42\n",
      " ticket check  42\n",
      "take the sheet in cinema holl \n",
      "ticket  taken by user  43\n",
      " ticket check  43\n",
      "take the sheet in cinema holl \n",
      "ticket  taken by user  44\n",
      " ticket check  44\n",
      "take the sheet in cinema holl \n",
      "ticket  taken by user  45\n",
      " ticket check  45\n",
      "take the sheet in cinema holl \n",
      "ticket  taken by user  46\n",
      " ticket check  46\n",
      "take the sheet in cinema holl \n",
      "ticket  taken by user  47\n",
      " ticket check  47\n",
      "take the sheet in cinema holl \n",
      "ticket  taken by user  48\n",
      " ticket check  48\n",
      "take the sheet in cinema holl \n",
      "ticket  taken by user  49\n",
      " ticket check  49\n",
      "take the sheet in cinema holl \n"
     ]
    }
   ],
   "source": [
    "# cinema holl ticket:\n",
    "from queue import Queue\n",
    "class count:\n",
    "    def __init__(self):\n",
    "        self.w=Queue()\n",
    "    def cash(self):\n",
    "        for i in range(1,50):\n",
    "            print(\"ticket  taken by user \",i)\n",
    "            self.w.put(i)\n",
    "            sleep(1)\n",
    "class confire:\n",
    "    def __init__(self,p):\n",
    "        self.p=p\n",
    "        self.rl=RLock\n",
    "    def ticket(self):\n",
    "        for i in range(1,50):\n",
    "            print(\" ticket check \",self.p.w.get(i))\n",
    "            print(\"take the sheet in cinema holl \")\n",
    "\n",
    "                \n",
    "                \n",
    "                \n",
    "c=count()\n",
    "n=confire(c)\n",
    "#op=exit(n)\n",
    "o1=Thread(target=c.cash)\n",
    "o2=Thread(target=n.ticket)\n",
    "#o3=Thread(target=op.run)\n",
    "o1.start()\n",
    "o2.start()\n",
    "#o3.start()"
   ]
  },
  {
   "cell_type": "markdown",
   "metadata": {},
   "source": [
    "# DAEMON THREAD"
   ]
  },
  {
   "cell_type": "code",
   "execution_count": 111,
   "metadata": {},
   "outputs": [
    {
     "name": "stdout",
     "output_type": "stream",
     "text": [
      "before set : False\n",
      "after set : True\n",
      "daemon thread\n"
     ]
    }
   ],
   "source": [
    "def disp():\n",
    "    print(\"daemon thread\")\n",
    "t1=Thread(target=disp) \n",
    "print(\"before set :\",t1.isDaemon())\n",
    "\n",
    "t1.setDaemon(True)\n",
    "\n",
    "print(\"after set :\",t1.isDaemon())\n",
    "t1.start()\n",
    "\n"
   ]
  },
  {
   "cell_type": "code",
   "execution_count": 115,
   "metadata": {},
   "outputs": [
    {
     "name": "stdout",
     "output_type": "stream",
     "text": [
      "before set : False\n",
      "after set true\n",
      "daemon thread\n"
     ]
    }
   ],
   "source": [
    "def disp():\n",
    "    print(\"daemon thread\")\n",
    "t1=Thread(target=disp) \n",
    "print(\"before set :\",t1.daemon)\n",
    "t1.daemon=\"true\"\n",
    "print(\"after set\",t1.daemon)\n",
    "t1.start()"
   ]
  },
  {
   "cell_type": "code",
   "execution_count": 120,
   "metadata": {},
   "outputs": [
    {
     "name": "stdout",
     "output_type": "stream",
     "text": [
      "MainThread\n",
      "False\n",
      "False\n"
     ]
    }
   ],
   "source": [
    "from threading import current_thread\n",
    "mt=current_thread()\n",
    "print(mt.getName())\n",
    "print(mt.isDaemon())\n",
    "#mt.daemon=True\n",
    "print(mt.daemon)"
   ]
  },
  {
   "cell_type": "code",
   "execution_count": 125,
   "metadata": {},
   "outputs": [
    {
     "name": "stdout",
     "output_type": "stream",
     "text": [
      "MainThread\n",
      "False\n",
      "euji False\n",
      "disp Function\n"
     ]
    }
   ],
   "source": [
    "from threading import current_thread\n",
    "def disp():\n",
    "    print('disp Function')\n",
    "mt=current_thread()\n",
    "print(mt.getName())\n",
    "print(mt.isDaemon())\n",
    "t1=Thread(target=disp)\n",
    "print(\"euji\",t1.isDaemon())\n",
    "t1.start()"
   ]
  },
  {
   "cell_type": "code",
   "execution_count": 159,
   "metadata": {},
   "outputs": [
    {
     "name": "stdout",
     "output_type": "stream",
     "text": [
      "teachine session 1\n",
      "teachine session 2\n",
      "teachine session 3\n",
      "teachine session 4\n",
      "teachine session 5\n",
      "teachine session 6\n",
      "exam finshing MainThread\n",
      "teachine session 7\n",
      "teachine session 8\n",
      "teachine session 9\n"
     ]
    }
   ],
   "source": [
    "from threading import Thread ,current_thread\n",
    "from time import sleep \n",
    "def teacher():\n",
    "    for i in range(1,10):\n",
    "        print(\"teachine session\",i)\n",
    "        sleep(1)\n",
    "mo=Thread(target=teacher)\n",
    "mo.daemon=\"true\"\n",
    "mo.start()\n",
    "sleep(6)\n",
    "print(\"exam finshing\",current_thread().name)\n",
    "     "
   ]
  },
  {
   "cell_type": "code",
   "execution_count": null,
   "metadata": {},
   "outputs": [],
   "source": []
  }
 ],
 "metadata": {
  "kernelspec": {
   "display_name": "Python 3",
   "language": "python",
   "name": "python3"
  },
  "language_info": {
   "codemirror_mode": {
    "name": "ipython",
    "version": 3
   },
   "file_extension": ".py",
   "mimetype": "text/x-python",
   "name": "python",
   "nbconvert_exporter": "python",
   "pygments_lexer": "ipython3",
   "version": "3.7.4"
  }
 },
 "nbformat": 4,
 "nbformat_minor": 2
}
