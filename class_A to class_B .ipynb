{
 "cells": [
  {
   "cell_type": "code",
   "execution_count": 1,
   "metadata": {},
   "outputs": [],
   "source": [
    "#passing member one class to another class"
   ]
  },
  {
   "cell_type": "code",
   "execution_count": 16,
   "metadata": {},
   "outputs": [
    {
     "name": "stdout",
     "output_type": "stream",
     "text": [
      "user data neeru 98\n",
      "name of user-- neeru \n",
      " 98\n"
     ]
    }
   ],
   "source": [
    "class mn:\n",
    "    def __init__(self,n,m):\n",
    "        self.n=n\n",
    "        self.m=m\n",
    "    def display(self):\n",
    "        print(\"name of user--\",self.n,'\\n',self.m)\n",
    "\n",
    "class nm:\n",
    "    @staticmethod\n",
    "    def shor(s):  # s is object of class ,which is used to access the data of another class\n",
    "        print(\"user data\",s.n,s.m)\n",
    "        s.display() \n",
    "o=mn(\"neeru\",98)  \n",
    "\n",
    "nm.shor(o)"
   ]
  },
  {
   "cell_type": "code",
   "execution_count": null,
   "metadata": {},
   "outputs": [],
   "source": []
  }
 ],
 "metadata": {
  "kernelspec": {
   "display_name": "Python 3",
   "language": "python",
   "name": "python3"
  },
  "language_info": {
   "codemirror_mode": {
    "name": "ipython",
    "version": 3
   },
   "file_extension": ".py",
   "mimetype": "text/x-python",
   "name": "python",
   "nbconvert_exporter": "python",
   "pygments_lexer": "ipython3",
   "version": "3.7.4"
  }
 },
 "nbformat": 4,
 "nbformat_minor": 2
}
